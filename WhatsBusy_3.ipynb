{
 "cells": [
  {
   "cell_type": "markdown",
   "metadata": {},
   "source": [
    "### 3. Pandas"
   ]
  },
  {
   "cell_type": "markdown",
   "metadata": {},
   "source": [
    "#### Importing all the relevant libraries :"
   ]
  },
  {
   "cell_type": "code",
   "execution_count": 1,
   "metadata": {},
   "outputs": [],
   "source": [
    "import pandas as pd\n",
    "import numpy as np\n",
    "import matplotlib.pyplot as plt\n",
    "from pylab import rcParams\n",
    "import statsmodels.api as sm\n",
    "import itertools"
   ]
  },
  {
   "cell_type": "markdown",
   "metadata": {},
   "source": [
    "#### Creating an input data frame for part a:"
   ]
  },
  {
   "cell_type": "code",
   "execution_count": 2,
   "metadata": {},
   "outputs": [
    {
     "name": "stdout",
     "output_type": "stream",
     "text": [
      "   days  values\n",
      "0     1      10\n",
      "1     1      10\n",
      "2     2       5\n",
      "3     2       3\n",
      "4     1      -2\n",
      "5     3       4\n",
      "6     4      20\n"
     ]
    }
   ],
   "source": [
    "df_a = pd.DataFrame({'days': [1, 1, 2, 2, 1, 3, 4],'values': [10, 10, 5, 3, -2, 4, 20]})\n",
    "print(df_a)"
   ]
  },
  {
   "cell_type": "markdown",
   "metadata": {},
   "source": [
    "#### Creating an aggregated data frame with ooperations - mean, median, max, min for the values column:"
   ]
  },
  {
   "cell_type": "code",
   "execution_count": 3,
   "metadata": {
    "scrolled": true
   },
   "outputs": [
    {
     "name": "stdout",
     "output_type": "stream",
     "text": [
      "          values                                    \n",
      "     mean_values median_values max_values min_values\n",
      "days                                                \n",
      "1              6            10         10         -2\n",
      "2              4             4          5          3\n",
      "3              4             4          4          4\n",
      "4             20            20         20         20\n"
     ]
    },
    {
     "name": "stderr",
     "output_type": "stream",
     "text": [
      "C:\\Users\\Ayush\\AppData\\Local\\Continuum\\anaconda3\\lib\\site-packages\\pandas\\core\\groupby\\generic.py:1315: FutureWarning: using a dict with renaming is deprecated and will be removed in a future version\n",
      "  return super(DataFrameGroupBy, self).aggregate(arg, *args, **kwargs)\n"
     ]
    }
   ],
   "source": [
    "aggregation = {\n",
    "    'values': {\n",
    "        'mean_values':'mean',\n",
    "        'median_values':'median',\n",
    "        'max_values':'max',\n",
    "        'min_values':'min'\n",
    "    }\n",
    "}\n",
    "aggregate_df = df_a.groupby('days').agg(aggregation)\n",
    "print(aggregate_df)"
   ]
  },
  {
   "cell_type": "markdown",
   "metadata": {},
   "source": [
    "#### Creating input data frame for part b:"
   ]
  },
  {
   "cell_type": "code",
   "execution_count": 4,
   "metadata": {},
   "outputs": [
    {
     "name": "stdout",
     "output_type": "stream",
     "text": [
      "   employee  pos  amount\n",
      "0      1001    2     125\n",
      "1      1002    2     542\n",
      "2      1004    2    2345\n",
      "3      1001    2     892\n",
      "4      1001    2     100\n",
      "5      1002    2    1234\n",
      "6      1004    2     657\n",
      "7      1005    2      34\n",
      "8      1005    2      35\n"
     ]
    }
   ],
   "source": [
    "df_b = pd.DataFrame({'employee': [1001, 1002, 1004, 1001, 1001, 1002, 1004, 1005, 1005],\n",
    "                    'pos': [2, 2, 2, 2, 2, 2, 2, 2, 2],\n",
    "                    'amount': [125, 542, 2345, 892, 100, 1234, 657, 34, 35]})\n",
    "print(df_b)"
   ]
  },
  {
   "cell_type": "markdown",
   "metadata": {},
   "source": [
    "#### Selecting top 2 employees with the max difference between the lowest amount and the highest amount between the employees:"
   ]
  },
  {
   "cell_type": "code",
   "execution_count": 5,
   "metadata": {},
   "outputs": [
    {
     "name": "stdout",
     "output_type": "stream",
     "text": [
      "employee  pos\n",
      "1004      2      1688\n",
      "1001      2       792\n",
      "Name: amount_diff, dtype: int64\n"
     ]
    }
   ],
   "source": [
    "max_diff = df_b.groupby(['employee','pos'])['amount'].agg(['max','min'])\n",
    "max_diff['amount_diff'] = (max_diff['max']-max_diff['min'])\n",
    "\n",
    "max_diff = max_diff.sort_values(by = 'amount_diff',ascending=False)\n",
    "print(max_diff['amount_diff'].head(2))"
   ]
  },
  {
   "cell_type": "code",
   "execution_count": null,
   "metadata": {},
   "outputs": [],
   "source": []
  }
 ],
 "metadata": {
  "kernelspec": {
   "display_name": "Python 3",
   "language": "python",
   "name": "python3"
  },
  "language_info": {
   "codemirror_mode": {
    "name": "ipython",
    "version": 3
   },
   "file_extension": ".py",
   "mimetype": "text/x-python",
   "name": "python",
   "nbconvert_exporter": "python",
   "pygments_lexer": "ipython3",
   "version": "3.7.3"
  }
 },
 "nbformat": 4,
 "nbformat_minor": 2
}
